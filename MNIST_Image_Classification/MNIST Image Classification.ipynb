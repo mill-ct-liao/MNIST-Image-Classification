{
 "cells": [
  {
   "cell_type": "markdown",
   "metadata": {},
   "source": [
    "# MNIST Image Classification\n",
    "\n",
    "_Author: Mill Liao_\n",
    "\n",
    "_Linkedin: https://www.linkedin.com/in/mill-liao_\n",
    "\n",
    "_Email: mill.ct.liao@gmail.com_\n",
    "\n",
    "---"
   ]
  },
  {
   "cell_type": "markdown",
   "metadata": {
    "nbpresent": {
     "id": "375753da-1c6c-4b02-986a-6e3b185a5869"
    }
   },
   "source": [
    "# Summary\n",
    "The goal of this assignment is to build a classifier to classify some grayscale images of the size 28x28 into a set of categories. The dimension of the original data is large, so you need to be smart on which method you gonna use and perhaps perform a pre-processing step to reduce the amount of computation. Part of your marks will be a function of the performance of your classifier on the test set."
   ]
  },
  {
   "cell_type": "markdown",
   "metadata": {},
   "source": [
    "## Dataset description\n",
    "The dataset can be downloaded from Canvas. The dataset consists of a training set of 30,000 examples and a test set of 5,000 examples. They belong to 10 different categories. The validation set is not provided, but you can randomly pick a subset of the training set for validation. The labels of the first 2,000 test examples are given, you will analyse the performance of your proposed method by exploiting the 2,000 test examples. It is NOT allowed to use any examples from the test set for training; or it will be considered as cheating. The rest 3,000 labels of the test set are reserved for marking purpose. <br />\n",
    "Here are examples illustrating sample of the dataset (each class takes one row):"
   ]
  },
  {
   "cell_type": "markdown",
   "metadata": {},
   "source": [
    "<img src=\"Dataset_image.jpg\" alt=\"DataSet\" title=\"DataSet\" width=\"450\" height=\"300\" />"
   ]
  },
  {
   "cell_type": "markdown",
   "metadata": {},
   "source": [
    "There are 10 classes in total:<br />\n",
    "0 T-shirt/Top<br />\n",
    "1 Trouser<br />\n",
    "2 Pullover<br />\n",
    "3 Dress<br />\n",
    "4 Coat<br />\n",
    "5 Sandal<br />\n",
    "6 Shirt<br />\n",
    "7 Sneaker<br />\n",
    "8 Bag<br />\n",
    "9 Ankle boot <br />"
   ]
  },
  {
   "cell_type": "markdown",
   "metadata": {},
   "source": [
    "### How to load the data\n",
    "There is a Input folder including 4 main files (which can be downloaded from Canvas):\n",
    "    1. images_training.h5 (30000 samples for training)\n",
    "    2. labels_training.h5\n",
    "    3. images_testing.h5 (5000 samples for testing)\n",
    "    4. labels_testing_2000.h5"
   ]
  },
  {
   "cell_type": "markdown",
   "metadata": {},
   "source": [
    "To read the hdf5 file and load the data into a numpy array, assuming the **training data files are in the ./Input/train** and **testing data file are in ./Input/test**. <br /> Use the following code:"
   ]
  },
  {
   "cell_type": "markdown",
   "metadata": {},
   "source": [
    "Then data would be a numpy array of the shape (30000, 784), and\n",
    "label would be a numpy array of the shape (30000, ). It is noted that the labels_testing_2000 only contain 2000 samples for your testing and fine-tuning parameters. We will evaluate your model on full 5000 samples which is not provided.  \n",
    "The file images_testing.h5 can be loaded in a similar way."
   ]
  },
  {
   "cell_type": "code",
   "execution_count": 251,
   "metadata": {},
   "outputs": [
    {
     "name": "stdout",
     "output_type": "stream",
     "text": [
      "['images_training.h5', 'labels_training.h5']\n"
     ]
    }
   ],
   "source": [
    "import h5py\n",
    "import numpy as np\n",
    "import os\n",
    "import scipy\n",
    "import matplotlib.pyplot as pl\n",
    "from numpy.random import shuffle\n",
    "import matplotlib as mpl\n",
    "from ipywidgets import fixed, interactive, interact\n",
    "import ipywidgets as widgets\n",
    "from IPython.display import display\n",
    "import math\n",
    "\n",
    "print(os.listdir(\"./Input/train\"))"
   ]
  },
  {
   "cell_type": "code",
   "execution_count": 76,
   "metadata": {},
   "outputs": [],
   "source": [
    "import warnings\n",
    "warnings.filterwarnings(\"ignore\")"
   ]
  },
  {
   "cell_type": "code",
   "execution_count": 3,
   "metadata": {},
   "outputs": [
    {
     "name": "stdout",
     "output_type": "stream",
     "text": [
      "Dimension of Train Data:  (30000, 784) Dimension of Train Data Label:  (30000,)\n",
      "Dimension of Test Data:  (2000, 784) Dimension of Test Data Label:  (2000,)\n"
     ]
    }
   ],
   "source": [
    "with h5py.File('./Input/train/images_training.h5','r') as H:\n",
    "    data_train = np.copy(H['datatrain'])\n",
    "with h5py.File('./Input/train/labels_training.h5','r') as H:\n",
    "    label_train = np.copy(H['labeltrain'])\n",
    "with h5py.File('./Input/test/images_testing.h5','r') as H:\n",
    "    data_test = np.copy(H['datatest'])[:2000,:]\n",
    "with h5py.File('./Input/test/labels_testing_2000.h5','r') as H:\n",
    "    label_test = np.copy(H['labeltest'])\n",
    "    \n",
    "# using H['datatest'], H['labeltest'] for test dataset.\n",
    "print('Dimension of Train Data: ',data_train.shape,'Dimension of Train Data Label: ',label_train.shape)\n",
    "print('Dimension of Test Data: ',data_test.shape,'Dimension of Test Data Label: ',label_test.shape)"
   ]
  },
  {
   "cell_type": "markdown",
   "metadata": {},
   "source": [
    "Showing a sample data. The first example belongs to class 0: T-Shirt/Top"
   ]
  },
  {
   "cell_type": "code",
   "execution_count": 4,
   "metadata": {},
   "outputs": [
    {
     "data": {
      "image/png": "[encoded data removed]",
      "text/plain": [
       "<Figure size 432x288 with 1 Axes>"
      ]
     },
     "metadata": {
      "needs_background": "light"
     },
     "output_type": "display_data"
    }
   ],
   "source": [
    "data_train = data_train.reshape((data_train.shape[0], 28, 28))\n",
    "plt.imshow(data_train[0], cmap=plt.get_cmap('gray'))\n",
    "plt.title(\"class \" + str(label_train[0]) + \": T-shirt/Top\" )\n",
    "plt.show()"
   ]
  },
  {
   "cell_type": "code",
   "execution_count": 5,
   "metadata": {},
   "outputs": [
    {
     "name": "stdout",
     "output_type": "stream",
     "text": [
      "(30000, 784)\n"
     ]
    }
   ],
   "source": [
    "data_train = data_train.reshape((data_train.shape[0],-1))\n",
    "print(data_train.shape)"
   ]
  },
  {
   "cell_type": "markdown",
   "metadata": {},
   "source": [
    "### SVD"
   ]
  },
  {
   "cell_type": "code",
   "execution_count": 273,
   "metadata": {},
   "outputs": [],
   "source": [
    "def svd_image(idx_image,n_components):\n",
    "    \n",
    "    image = data_train[idx_image]\n",
    "    image = image.reshape((28, 28))\n",
    "\n",
    "    U, s, Vt = np.linalg.svd(image, full_matrices=False)\n",
    "    S = np.diag(s)\n",
    "\n",
    "    image_hat_reconstructed = U[0:U.shape[0], 0:n_components]\\\n",
    "       .dot(S[0:n_components,0:n_components])\\\n",
    "       .dot(Vt[0:n_components, 0:Vt.shape[1]])\n",
    "    \n",
    "    SSE = np.sum((image - image_hat_reconstructed)**2) \n",
    "    comp_ratio = (image.shape[1]*n_components + n_components + image.shape[0]*n_components)/(image.shape[1] * image.shape[0])\n",
    "    \n",
    "    print('If we choose {} dominant singular value/s;\\n SSE = {} and\\n compresion ratio = {}\\n\\n'\\\n",
    "      .format(n_components, SSE, np.round(comp_ratio,10)))\n",
    "    \n",
    "    pl.figure(figsize=(9,6)) \n",
    "    pl.subplot(121)\n",
    "    pl.imshow(image, cmap=pl.cm.gray)\n",
    "    pl.title('Original image')\n",
    "    pl.subplot(122)\n",
    "    pl.imshow(image_hat_reconstructed, cmap=pl.cm.gray)\n",
    "    pl.title('Compressed image')\n",
    "    pl.show()\n",
    "    \n",
    "    return image_hat_reconstructed"
   ]
  },
  {
   "cell_type": "code",
   "execution_count": 246,
   "metadata": {},
   "outputs": [],
   "source": [
    "def svd_transformation(idx_image,n_components):\n",
    "    \n",
    "    image = data_train[idx_image]\n",
    "    image = image.reshape((28, 28))\n",
    "\n",
    "    U, s, Vt = np.linalg.svd(image, full_matrices=False)\n",
    "    S = np.diag(s)\n",
    "\n",
    "    image_hat_reconstructed = U[0:U.shape[0], 0:n_components]\\\n",
    "       .dot(S[0:n_components,0:n_components])\\\n",
    "       .dot(Vt[0:n_components, 0:Vt.shape[1]])\n",
    "    \n",
    "    return image_hat_reconstructed"
   ]
  },
  {
   "cell_type": "code",
   "execution_count": 247,
   "metadata": {},
   "outputs": [],
   "source": [
    "svd_reconstructed_train_data = []\n",
    "n = 10\n",
    "\n",
    "for i in range(data_train.shape[0]):\n",
    "    \n",
    "    recontructed_data = svd_transformation(i,n_components=n)\n",
    "    svd_reconstructed_train_data.append(recontructed_data)\n",
    "    \n",
    "svd_reconstructed_train_data = np.array(svd_reconstructed_train_data)"
   ]
  },
  {
   "cell_type": "code",
   "execution_count": 248,
   "metadata": {},
   "outputs": [
    {
     "data": {
      "text/plain": [
       "array([[[ 6.7561783e-16,  1.0698599e-16,  4.6179029e-18, ...,\n",
       "          0.0000000e+00,  0.0000000e+00,  0.0000000e+00],\n",
       "        [ 2.4907312e-18,  2.9461548e-16, -1.0109734e-16, ...,\n",
       "          0.0000000e+00,  0.0000000e+00,  0.0000000e+00],\n",
       "        [ 3.3202586e-17,  1.2898751e-16,  2.4144542e-18, ...,\n",
       "          0.0000000e+00,  0.0000000e+00,  0.0000000e+00],\n",
       "        ...,\n",
       "        [ 1.2570771e-17,  2.0631941e-16,  2.0513633e-16, ...,\n",
       "          0.0000000e+00,  0.0000000e+00,  0.0000000e+00],\n",
       "        [-9.0117198e-17,  1.7412027e-16,  1.1347932e-16, ...,\n",
       "          0.0000000e+00,  0.0000000e+00,  0.0000000e+00],\n",
       "        [ 1.9447863e-16,  4.3389822e-17, -6.1106516e-18, ...,\n",
       "          0.0000000e+00,  0.0000000e+00,  0.0000000e+00]],\n",
       "\n",
       "       [[ 7.5046547e-16,  1.2263406e-17,  1.9101046e-16, ...,\n",
       "          0.0000000e+00,  0.0000000e+00,  0.0000000e+00],\n",
       "        [ 8.7867598e-17,  1.4716210e-17,  5.9342816e-16, ...,\n",
       "          0.0000000e+00,  0.0000000e+00,  0.0000000e+00],\n",
       "        [-3.3153799e-17,  1.4169125e-16,  4.6840228e-16, ...,\n",
       "          0.0000000e+00,  0.0000000e+00,  0.0000000e+00],\n",
       "        ...,\n",
       "        [ 9.0718003e-17, -5.1410827e-17,  6.2315865e-16, ...,\n",
       "          0.0000000e+00,  0.0000000e+00,  0.0000000e+00],\n",
       "        [ 1.4412697e-16,  1.2954411e-16,  6.7737987e-16, ...,\n",
       "          0.0000000e+00,  0.0000000e+00,  0.0000000e+00],\n",
       "        [ 1.6542751e-16, -1.6220381e-16,  5.3314197e-16, ...,\n",
       "          0.0000000e+00,  0.0000000e+00,  0.0000000e+00]],\n",
       "\n",
       "       [[ 9.7184431e-16,  2.6828056e-16, -3.2793381e-18, ...,\n",
       "          0.0000000e+00,  0.0000000e+00,  0.0000000e+00],\n",
       "        [ 1.4901566e-17,  7.8557382e-16,  2.7823508e-18, ...,\n",
       "          0.0000000e+00,  0.0000000e+00,  0.0000000e+00],\n",
       "        [-2.4845918e-17,  5.4129895e-16, -8.1597736e-18, ...,\n",
       "          0.0000000e+00,  0.0000000e+00,  0.0000000e+00],\n",
       "        ...,\n",
       "        [-1.2786353e-16,  2.2868976e-16, -2.2815341e-18, ...,\n",
       "          0.0000000e+00,  0.0000000e+00,  0.0000000e+00],\n",
       "        [ 9.0325198e-17,  1.4872416e-16,  6.6370995e-18, ...,\n",
       "          0.0000000e+00,  0.0000000e+00,  0.0000000e+00],\n",
       "        [-4.4437578e-17,  1.1825685e-16,  2.9688859e-17, ...,\n",
       "          0.0000000e+00,  0.0000000e+00,  0.0000000e+00]],\n",
       "\n",
       "       ...,\n",
       "\n",
       "       [[ 5.0415676e-16,  5.8752654e-17, -1.2409758e-16, ...,\n",
       "          0.0000000e+00,  0.0000000e+00,  0.0000000e+00],\n",
       "        [ 1.1259606e-16, -1.3083849e-18, -1.0369211e-16, ...,\n",
       "          0.0000000e+00,  0.0000000e+00,  0.0000000e+00],\n",
       "        [ 6.1695537e-17,  4.5191946e-18, -3.2313738e-16, ...,\n",
       "          0.0000000e+00,  0.0000000e+00,  0.0000000e+00],\n",
       "        ...,\n",
       "        [ 2.1813960e-17,  7.5625269e-18,  5.0295533e-17, ...,\n",
       "          0.0000000e+00,  0.0000000e+00,  0.0000000e+00],\n",
       "        [ 7.0107316e-17, -3.5753615e-17,  1.0765944e-16, ...,\n",
       "          0.0000000e+00,  0.0000000e+00,  0.0000000e+00],\n",
       "        [ 3.0770490e-17, -3.3300697e-17,  7.2802548e-17, ...,\n",
       "          0.0000000e+00,  0.0000000e+00,  0.0000000e+00]],\n",
       "\n",
       "       [[ 9.4389106e-16, -5.1272737e-17,  8.5605001e-17, ...,\n",
       "          0.0000000e+00,  0.0000000e+00,  0.0000000e+00],\n",
       "        [ 1.4120357e-16, -1.6141066e-17, -5.5003017e-17, ...,\n",
       "          0.0000000e+00,  0.0000000e+00,  0.0000000e+00],\n",
       "        [-3.2169731e-19, -9.3112525e-17, -4.1352453e-17, ...,\n",
       "          0.0000000e+00,  0.0000000e+00,  0.0000000e+00],\n",
       "        ...,\n",
       "        [-1.3921135e-17,  5.7857294e-17,  4.8154458e-16, ...,\n",
       "          0.0000000e+00,  0.0000000e+00,  0.0000000e+00],\n",
       "        [ 1.9929512e-17, -1.7588060e-17,  4.5816647e-16, ...,\n",
       "          0.0000000e+00,  0.0000000e+00,  0.0000000e+00],\n",
       "        [-5.3993276e-18, -4.9655609e-17,  2.5834306e-16, ...,\n",
       "          0.0000000e+00,  0.0000000e+00,  0.0000000e+00]],\n",
       "\n",
       "       [[ 7.5621831e-16,  6.0007348e-17, -1.4846382e-17, ...,\n",
       "          5.1521407e-03,  0.0000000e+00,  0.0000000e+00],\n",
       "        [-5.0069975e-18,  1.8049375e-16,  8.5549984e-17, ...,\n",
       "         -1.3485286e-04,  0.0000000e+00,  0.0000000e+00],\n",
       "        [ 1.2365192e-17, -3.6022888e-18,  1.0951868e-17, ...,\n",
       "          3.9278246e-03,  0.0000000e+00,  0.0000000e+00],\n",
       "        ...,\n",
       "        [-1.3293441e-17, -9.9712123e-18,  1.6991878e-17, ...,\n",
       "          1.9977564e-01,  0.0000000e+00,  0.0000000e+00],\n",
       "        [-2.6430967e-17, -1.6659796e-18, -1.8311871e-17, ...,\n",
       "          2.0923262e-02,  0.0000000e+00,  0.0000000e+00],\n",
       "        [ 5.7516932e-17, -1.5116410e-17, -2.8614953e-17, ...,\n",
       "         -2.0786424e-03,  0.0000000e+00,  0.0000000e+00]]], dtype=float32)"
      ]
     },
     "execution_count": 248,
     "metadata": {},
     "output_type": "execute_result"
    }
   ],
   "source": [
    "svd_reconstructed_train_data"
   ]
  },
  {
   "cell_type": "code",
   "execution_count": 274,
   "metadata": {},
   "outputs": [
    {
     "name": "stdout",
     "output_type": "stream",
     "text": [
      "If we choose 10 dominant singular value/s;\n",
      " SSE = 0.24151600897312164 and\n",
      " compresion ratio = 0.7270408163\n",
      "\n",
      "\n"
     ]
    },
    {
     "data": {
      "image/png": "[encoded data removed]",
      "text/plain": [
       "<Figure size 648x432 with 2 Axes>"
      ]
     },
     "metadata": {
      "needs_background": "light"
     },
     "output_type": "display_data"
    },
    {
     "data": {
      "text/plain": [
       "array([[ 6.7561783e-16,  1.0698599e-16,  4.6179029e-18,  8.1203421e-17,\n",
       "        -7.2588283e-03,  2.0586960e-03, -4.1559339e-03, -2.7953065e-03,\n",
       "         6.8538273e-03,  4.8240200e-03, -6.2746340e-03,  5.9970329e-03,\n",
       "         3.2102460e-01,  5.3747755e-01,  6.8752122e-01,  4.9794957e-01,\n",
       "         2.9458562e-02,  5.0407159e-04, -2.0303498e-03, -3.4095123e-03,\n",
       "         6.9450014e-03,  2.2149717e-03,  3.5844743e-03, -5.2355318e-03,\n",
       "         0.0000000e+00,  0.0000000e+00,  0.0000000e+00,  0.0000000e+00],\n",
       "       [ 2.4907312e-18,  2.9461548e-16, -1.0109734e-16,  3.4195599e-16,\n",
       "         1.6458066e-03, -3.5211064e-03,  8.6771762e-03,  4.2973161e-03,\n",
       "         1.8006862e-03,  3.3532588e-03, -7.9782158e-03,  6.9971055e-01,\n",
       "         7.9765642e-01,  6.4672184e-01,  6.9906116e-01,  8.0888885e-01,\n",
       "         8.3545673e-01,  7.6515079e-03,  9.2706172e-04, -3.1385187e-03,\n",
       "        -4.8688091e-03,  3.2125143e-03,  2.1942742e-03, -2.3981882e-03,\n",
       "         0.0000000e+00,  0.0000000e+00,  0.0000000e+00,  0.0000000e+00],\n",
       "       [ 3.3202586e-17,  1.2898751e-16,  2.4144542e-18,  2.4752690e-16,\n",
       "         7.8904384e-04,  3.0788006e-03,  1.4154006e-03, -3.1209097e-04,\n",
       "         7.5677936e-03,  2.9366919e-01,  8.5626781e-01,  7.7661890e-01,\n",
       "         7.3113215e-01,  8.6597550e-01,  8.5016084e-01,  8.5001266e-01,\n",
       "         8.2931024e-01,  9.9162221e-01,  2.8089398e-01, -9.6829226e-03,\n",
       "        -5.3818440e-03,  5.7678684e-03, -3.3378834e-04,  4.8585925e-03,\n",
       "         0.0000000e+00,  0.0000000e+00,  0.0000000e+00,  0.0000000e+00],\n",
       "       [ 3.6116840e-18,  3.1938497e-16,  2.8121946e-16,  9.0674857e-17,\n",
       "         3.5208303e-03,  2.6666678e-03,  3.0903888e-01,  5.7261902e-01,\n",
       "         6.1319923e-01,  6.8939811e-01,  7.0368737e-01,  7.4144900e-01,\n",
       "         7.3165679e-01,  7.8964847e-01,  9.2401731e-01,  7.4259806e-01,\n",
       "         7.4744892e-01,  7.2375733e-01,  8.9149725e-01,  9.1778296e-01,\n",
       "         5.1336855e-01,  1.9700806e-01, -1.5870314e-03,  2.4456200e-03,\n",
       "         0.0000000e+00,  0.0000000e+00,  0.0000000e+00,  0.0000000e+00],\n",
       "       [-3.7457630e-17,  1.5790748e-16,  2.1211144e-16,  1.5017486e-17,\n",
       "        -9.6585397e-03,  5.3761732e-02,  8.3221078e-01,  3.9977339e-01,\n",
       "         2.9760635e-01,  3.1719381e-01,  4.8918384e-01,  7.4429017e-01,\n",
       "         5.2026373e-01,  6.1560774e-01,  6.9768411e-01,  4.6140346e-01,\n",
       "         2.9573902e-01,  3.3099648e-01,  4.5131710e-01,  7.0004320e-01,\n",
       "         6.2478238e-01,  7.6137602e-01,  8.8106297e-02,  1.0681384e-02,\n",
       "         0.0000000e+00,  0.0000000e+00,  0.0000000e+00,  0.0000000e+00],\n",
       "       [ 7.0644963e-17,  9.8896046e-17,  2.6729374e-16, -3.8933221e-17,\n",
       "        -2.0892839e-03,  3.7726992e-01,  6.9573253e-01,  3.2229343e-01,\n",
       "         3.2845959e-01,  2.9234558e-01,  4.0640664e-01,  7.0288903e-01,\n",
       "         5.2019763e-01,  5.7560849e-01,  6.6580284e-01,  4.1367862e-01,\n",
       "         2.3080449e-01,  2.9577377e-01,  4.7165766e-01,  6.5106720e-01,\n",
       "         4.2516264e-01,  5.3449965e-01,  3.6965069e-01, -1.1472356e-02,\n",
       "         0.0000000e+00,  0.0000000e+00,  0.0000000e+00,  0.0000000e+00],\n",
       "       [-2.8049440e-17,  1.4604173e-16,  3.7197963e-16, -5.1489303e-17,\n",
       "         1.0921621e-02,  5.7526284e-01,  6.3735449e-01,  5.1571470e-01,\n",
       "         4.4897503e-01,  4.6404073e-01,  5.7728541e-01,  8.2133192e-01,\n",
       "         6.2855035e-01,  6.1853290e-01,  7.0790952e-01,  4.9176016e-01,\n",
       "         4.5686355e-01,  5.4736179e-01,  7.1226978e-01,  7.9904562e-01,\n",
       "         4.9146435e-01,  4.2828098e-01,  5.5435681e-01, -1.0238405e-02,\n",
       "         0.0000000e+00,  0.0000000e+00,  0.0000000e+00,  0.0000000e+00],\n",
       "       [-2.8267362e-17,  2.1763406e-16,  4.6804341e-16, -4.5955111e-17,\n",
       "        -4.7353706e-03,  7.9688251e-01,  7.2212636e-01,  7.2976315e-01,\n",
       "         5.6309462e-01,  5.4197985e-01,  6.6878414e-01,  9.5206410e-01,\n",
       "         7.8263193e-01,  7.2430038e-01,  8.1959474e-01,  6.6557801e-01,\n",
       "         6.7892641e-01,  6.9990391e-01,  8.2024580e-01,  9.6123070e-01,\n",
       "         6.5494478e-01,  5.0860929e-01,  7.8740352e-01, -1.4362637e-02,\n",
       "         0.0000000e+00,  0.0000000e+00,  0.0000000e+00,  0.0000000e+00],\n",
       "       [-1.7769476e-17,  2.3731724e-16,  4.5317205e-16, -7.0309505e-17,\n",
       "        -1.4508873e-02,  7.9045081e-01,  7.7280486e-01,  7.5640315e-01,\n",
       "         4.4636151e-01,  4.1550776e-01,  4.7161213e-01,  8.3589143e-01,\n",
       "         7.0463228e-01,  5.9391612e-01,  6.8223697e-01,  5.3557187e-01,\n",
       "         5.5075890e-01,  4.8646289e-01,  6.9206190e-01,  7.9848188e-01,\n",
       "         7.3994249e-01,  6.5872061e-01,  8.2177460e-01,  8.5009210e-04,\n",
       "         0.0000000e+00,  0.0000000e+00,  0.0000000e+00,  0.0000000e+00],\n",
       "       [ 6.0041639e-17,  2.0244353e-16,  3.6920689e-16, -9.6773501e-17,\n",
       "         1.1395741e-01,  6.8357503e-01,  5.7440257e-01,  6.8399543e-01,\n",
       "         3.3333170e-01,  3.5922801e-01,  3.5242590e-01,  6.5101922e-01,\n",
       "         5.7074541e-01,  5.0465304e-01,  6.3975251e-01,  3.8787013e-01,\n",
       "         3.5773960e-01,  3.4386668e-01,  6.5502918e-01,  6.2502640e-01,\n",
       "         5.7284087e-01,  4.2338443e-01,  6.8689322e-01,  7.0939153e-02,\n",
       "         0.0000000e+00,  0.0000000e+00,  0.0000000e+00,  0.0000000e+00],\n",
       "       [-2.1391036e-17,  2.5790520e-16,  2.7649659e-16, -1.9486949e-16,\n",
       "         5.1669264e-01,  7.5409073e-01,  5.4561311e-01,  8.7611020e-01,\n",
       "         4.5019269e-01,  2.4000961e-01,  3.2331342e-01,  6.8548757e-01,\n",
       "         5.4319894e-01,  4.6507570e-01,  6.5439016e-01,  2.8983483e-01,\n",
       "         2.9205540e-01,  2.9902971e-01,  6.0904145e-01,  5.8928609e-01,\n",
       "         5.9491074e-01,  4.1266519e-01,  7.5940931e-01,  3.5138574e-01,\n",
       "         0.0000000e+00,  0.0000000e+00,  0.0000000e+00,  0.0000000e+00],\n",
       "       [ 1.8699695e-17,  4.0610259e-16,  3.6557129e-16, -1.0500669e-16,\n",
       "         1.1465997e-02,  2.3845313e-01,  5.5246919e-01,  6.4278823e-01,\n",
       "         5.1395172e-01,  3.9100626e-01,  3.5486457e-01,  6.3955516e-01,\n",
       "         6.6740245e-01,  5.2712750e-01,  5.9901196e-01,  3.2593250e-01,\n",
       "         3.5404220e-01,  3.7773588e-01,  7.0031393e-01,  4.3314630e-01,\n",
       "         8.0231357e-01,  8.6770570e-01,  3.9906469e-01,  1.0466955e-01,\n",
       "         0.0000000e+00,  0.0000000e+00,  0.0000000e+00,  0.0000000e+00],\n",
       "       [-1.0214575e-16,  2.4593231e-16,  2.0182609e-16,  3.5388421e-17,\n",
       "         6.9513274e-03,  1.2163030e-02,  2.1148432e-02, -7.4211056e-03,\n",
       "         7.4301773e-01,  5.5458146e-01,  5.4858059e-01,  8.3058494e-01,\n",
       "         7.4336708e-01,  6.6715497e-01,  7.1058702e-01,  4.6874166e-01,\n",
       "         5.4106617e-01,  5.5943638e-01,  7.9941386e-01,  5.7509512e-01,\n",
       "        -9.8392498e-03,  8.8247769e-03,  1.4208449e-03,  4.9569705e-03,\n",
       "         0.0000000e+00,  0.0000000e+00,  0.0000000e+00,  0.0000000e+00],\n",
       "       [ 7.5895211e-18,  2.7546689e-16,  2.0515209e-16,  6.9030101e-17,\n",
       "         9.1281245e-03,  1.3433523e-02,  2.5478236e-02,  1.9916990e-03,\n",
       "         7.8205591e-01,  5.8999908e-01,  6.0533065e-01,  8.9570475e-01,\n",
       "         8.5378218e-01,  8.2357198e-01,  8.9666915e-01,  6.2823784e-01,\n",
       "         6.2050301e-01,  6.2155145e-01,  8.3256370e-01,  6.3181150e-01,\n",
       "        -9.6985837e-03, -8.1259012e-03, -4.6326271e-03,  2.3997931e-03,\n",
       "         0.0000000e+00,  0.0000000e+00,  0.0000000e+00,  0.0000000e+00],\n",
       "       [ 6.1470723e-17,  2.4338060e-16,  1.6718765e-16,  4.9655116e-17,\n",
       "         1.4985068e-02,  3.2030640e-03, -3.4275209e-03, -4.6178107e-03,\n",
       "         5.6834519e-01,  4.6194443e-01,  4.4526362e-01,  7.0484078e-01,\n",
       "         7.1153075e-01,  6.8036807e-01,  7.5394636e-01,  4.8292708e-01,\n",
       "         4.5346913e-01,  4.5668244e-01,  6.8516296e-01,  4.0210983e-01,\n",
       "        -6.1679296e-03,  9.1687283e-03,  1.6031516e-03,  1.3371622e-02,\n",
       "         0.0000000e+00,  0.0000000e+00,  0.0000000e+00,  0.0000000e+00],\n",
       "       [ 1.2550439e-19,  2.0379589e-16,  1.7091150e-16,  1.6558771e-17,\n",
       "         6.2807580e-03,  6.9957157e-03,  1.2305002e-03, -7.6036309e-03,\n",
       "         4.3872139e-01,  4.2808518e-01,  3.6008486e-01,  6.1332095e-01,\n",
       "         5.9242874e-01,  5.3029668e-01,  5.9471089e-01,  3.0442634e-01,\n",
       "         3.2273778e-01,  3.5003284e-01,  6.6978437e-01,  2.9896548e-01,\n",
       "        -3.5872196e-03,  1.0455852e-02,  6.4756703e-03,  4.8922137e-03,\n",
       "         0.0000000e+00,  0.0000000e+00,  0.0000000e+00,  0.0000000e+00],\n",
       "       [-2.9583368e-18,  1.9682105e-16,  1.6929097e-16,  3.0877782e-17,\n",
       "        -3.9748382e-03,  3.9140698e-03,  7.6558744e-03,  1.1677772e-03,\n",
       "         3.1222191e-01,  4.2413023e-01,  3.4302434e-01,  6.1085886e-01,\n",
       "         5.9078139e-01,  5.2408588e-01,  5.9612656e-01,  2.8295252e-01,\n",
       "         3.0929035e-01,  3.2232705e-01,  6.7783767e-01,  2.1674953e-01,\n",
       "         5.0699492e-03,  2.2707521e-03,  1.1652338e-03, -6.6266451e-03,\n",
       "         0.0000000e+00,  0.0000000e+00,  0.0000000e+00,  0.0000000e+00],\n",
       "       [-3.8717439e-17,  2.3544718e-16,  1.7104844e-16,  4.9230809e-17,\n",
       "        -1.0989848e-02, -6.1327107e-03, -1.4533246e-02, -1.1650202e-02,\n",
       "         3.8504520e-01,  4.4634855e-01,  3.7499580e-01,  6.9043225e-01,\n",
       "         6.7129529e-01,  5.7252628e-01,  6.3137019e-01,  3.4097132e-01,\n",
       "         4.0329412e-01,  3.7235039e-01,  7.0513189e-01,  2.3014310e-01,\n",
       "         1.7884945e-03,  1.8139508e-02,  2.0802987e-03, -3.2707532e-03,\n",
       "         0.0000000e+00,  0.0000000e+00,  0.0000000e+00,  0.0000000e+00],\n",
       "       [-1.5956915e-17,  3.0243446e-16,  2.1411305e-16,  7.6211915e-17,\n",
       "        -3.3247072e-02, -1.1183767e-02, -5.7947490e-02, -4.4621290e-03,\n",
       "         5.4256314e-01,  5.7611555e-01,  5.7856280e-01,  8.5787582e-01,\n",
       "         8.6225826e-01,  7.7160299e-01,  8.2428867e-01,  5.2326590e-01,\n",
       "         5.9504330e-01,  6.2867236e-01,  8.5904121e-01,  3.0398089e-01,\n",
       "         1.2406110e-02,  2.5506442e-02,  1.0068455e-02, -6.5243552e-03,\n",
       "         0.0000000e+00,  0.0000000e+00,  0.0000000e+00,  0.0000000e+00],\n",
       "       [ 6.3097926e-17,  2.6370701e-16,  1.7865922e-16,  8.9818275e-17,\n",
       "        -9.3397936e-03, -5.8694505e-03, -1.8110776e-02,  1.0559931e-04,\n",
       "         4.1688344e-01,  5.0882071e-01,  5.2763838e-01,  7.9467756e-01,\n",
       "         8.1035334e-01,  7.7495223e-01,  8.5304439e-01,  5.3842115e-01,\n",
       "         5.2966434e-01,  5.5050480e-01,  7.6209062e-01,  2.6650560e-01,\n",
       "         5.3997575e-03,  6.8582315e-03, -1.5745312e-03, -2.8161989e-03,\n",
       "         0.0000000e+00,  0.0000000e+00,  0.0000000e+00,  0.0000000e+00],\n",
       "       [ 2.6903500e-17,  2.3732701e-16,  1.7552603e-16,  5.7409048e-17,\n",
       "        -7.1592801e-03, -1.9505875e-03, -1.1351934e-02,  1.4478826e-02,\n",
       "         3.8178629e-01,  4.6330369e-01,  3.9251789e-01,  6.7906702e-01,\n",
       "         6.8676168e-01,  6.2265247e-01,  7.0226449e-01,  3.9576104e-01,\n",
       "         4.1167018e-01,  3.9014935e-01,  7.1884298e-01,  2.6439855e-01,\n",
       "         1.1629644e-02, -5.3889202e-03, -1.9011935e-03, -5.8520553e-03,\n",
       "         0.0000000e+00,  0.0000000e+00,  0.0000000e+00,  0.0000000e+00],\n",
       "       [ 3.7193151e-17,  2.0937995e-16,  1.8246047e-16,  1.2614371e-17,\n",
       "        -7.7694855e-03,  2.6312128e-03, -7.6319287e-03,  1.0489314e-02,\n",
       "         4.3250552e-01,  4.3806106e-01,  3.3117616e-01,  5.7143474e-01,\n",
       "         5.7968801e-01,  5.2205354e-01,  5.9757543e-01,  2.9700112e-01,\n",
       "         2.9927331e-01,  3.2111964e-01,  6.8481714e-01,  3.0593848e-01,\n",
       "         1.1150746e-02,  9.9001743e-04,  2.8016302e-03, -4.9709813e-03,\n",
       "         0.0000000e+00,  0.0000000e+00,  0.0000000e+00,  0.0000000e+00],\n",
       "       [ 3.3573170e-17,  2.1537988e-16,  1.7355788e-16,  1.2372092e-17,\n",
       "         1.6835239e-02,  2.9790378e-03, -5.0859591e-03, -1.6617313e-02,\n",
       "         4.6584839e-01,  4.3668014e-01,  3.8373575e-01,  6.3195264e-01,\n",
       "         6.2333727e-01,  5.7304758e-01,  6.4280713e-01,  3.2811034e-01,\n",
       "         3.2247472e-01,  3.7748879e-01,  6.8657279e-01,  2.9311591e-01,\n",
       "        -8.1283748e-03,  2.1780943e-02,  6.9500399e-03,  1.5674813e-02,\n",
       "         0.0000000e+00,  0.0000000e+00,  0.0000000e+00,  0.0000000e+00],\n",
       "       [-7.7573944e-17,  2.5822766e-16,  2.1458534e-16,  1.6710145e-17,\n",
       "         9.4831325e-03, -1.3929938e-03, -1.1429300e-02, -2.1404494e-02,\n",
       "         6.1849725e-01,  5.5631232e-01,  5.2592558e-01,  8.1380802e-01,\n",
       "         7.5109941e-01,  6.5716028e-01,  7.0849925e-01,  3.8112882e-01,\n",
       "         4.5911649e-01,  5.3407556e-01,  8.5172385e-01,  3.9509797e-01,\n",
       "        -8.4084468e-03,  3.0719265e-02,  5.7250741e-03,  1.4790879e-02,\n",
       "         0.0000000e+00,  0.0000000e+00,  0.0000000e+00,  0.0000000e+00],\n",
       "       [ 6.5873494e-17,  2.5836268e-16,  2.0735070e-16,  6.8055729e-17,\n",
       "        -1.1363903e-03,  3.5327944e-04,  1.5677536e-03,  1.4625876e-02,\n",
       "         5.8702183e-01,  5.8290309e-01,  6.2612259e-01,  8.3093530e-01,\n",
       "         8.2178944e-01,  8.2095677e-01,  9.0241933e-01,  5.8203667e-01,\n",
       "         5.5367517e-01,  6.5144354e-01,  8.3803827e-01,  4.4980550e-01,\n",
       "         7.0860432e-03, -8.0092121e-03, -8.5937697e-03, -1.7404450e-03,\n",
       "         0.0000000e+00,  0.0000000e+00,  0.0000000e+00,  0.0000000e+00],\n",
       "       [ 1.2570771e-17,  2.0631941e-16,  2.0513633e-16,  5.6622425e-17,\n",
       "        -1.1649616e-02,  3.9678365e-03,  4.0852055e-02,  3.6006492e-02,\n",
       "         4.6808395e-01,  5.6107235e-01,  5.3743070e-01,  7.4668014e-01,\n",
       "         7.0027018e-01,  6.9202363e-01,  7.8067094e-01,  4.5968953e-01,\n",
       "         4.5540932e-01,  5.2289307e-01,  8.1598240e-01,  4.5351291e-01,\n",
       "         1.4643387e-02, -4.5316294e-02, -2.5838206e-02, -2.5587250e-02,\n",
       "         0.0000000e+00,  0.0000000e+00,  0.0000000e+00,  0.0000000e+00],\n",
       "       [-9.0117198e-17,  1.7412027e-16,  1.1347932e-16,  1.2407437e-16,\n",
       "         1.8205699e-02,  6.6674594e-03,  3.2005575e-02, -5.6070508e-03,\n",
       "         8.0347722e-03,  4.0368390e-01,  5.4087466e-01,  7.9373157e-01,\n",
       "         7.0233488e-01,  6.5969479e-01,  7.0852643e-01,  4.1712508e-01,\n",
       "         4.9568444e-01,  5.3919262e-01,  6.3182002e-01, -1.6812796e-02,\n",
       "        -5.0615561e-03,  3.1143599e-03, -1.4855887e-03,  2.2189675e-03,\n",
       "         0.0000000e+00,  0.0000000e+00,  0.0000000e+00,  0.0000000e+00],\n",
       "       [ 1.9447863e-16,  4.3389822e-17, -6.1106516e-18,  3.7055822e-17,\n",
       "         2.3153445e-02,  3.2241043e-04,  1.6111284e-02, -4.5202072e-03,\n",
       "        -9.3787843e-03,  8.3836801e-03,  8.5692639e-03,  7.0895597e-02,\n",
       "         1.4955500e-01,  2.1154147e-01,  2.6868749e-01,  1.8073297e-01,\n",
       "         3.4848388e-02, -5.7490985e-03,  2.3510208e-02, -1.1820401e-03,\n",
       "        -7.1124416e-03, -1.7969605e-03, -5.2280296e-03,  1.0983273e-02,\n",
       "         0.0000000e+00,  0.0000000e+00,  0.0000000e+00,  0.0000000e+00]],\n",
       "      dtype=float32)"
      ]
     },
     "execution_count": 274,
     "metadata": {},
     "output_type": "execute_result"
    }
   ],
   "source": [
    "svd_image(0,10)"
   ]
  },
  {
   "cell_type": "markdown",
   "metadata": {},
   "source": [
    "### PCA"
   ]
  },
  {
   "cell_type": "code",
   "execution_count": 276,
   "metadata": {},
   "outputs": [],
   "source": [
    "def PCA(n_components, data):\n",
    "    mean_vec = np.mean(data,axis=0) # Find the mean of each row\n",
    "    std_vec = data - mean_vec # Standardisation\n",
    "    covMatrix = np.cov(std_vec, rowvar = False) # Covariance matrix of row\n",
    "    eig_val, eig_vec = np.linalg.eig(np.mat(covMatrix))\n",
    "    eig_vec = eig_vec[:,np.argsort(-eig_val)][:n_components,:] # Sort the eigenvector by eigenvalue\n",
    "    eig_vall = -np.sort(-eig_val)[:n_components] # Sort the eigenvalue\n",
    "    data_pca = std_vec.dot(eig_vec.T) # Mapping the original data into new space\n",
    "    return data_pca, eig_val, eig_vec"
   ]
  },
  {
   "cell_type": "code",
   "execution_count": 277,
   "metadata": {},
   "outputs": [],
   "source": [
    "pca_train, eVal_train, eVec_train = PCA(200, data_train)"
   ]
  },
  {
   "cell_type": "code",
   "execution_count": 264,
   "metadata": {},
   "outputs": [],
   "source": [
    "pca_test, eVal_test, eVec_test = PCA(200, data_test)"
   ]
  },
  {
   "cell_type": "code",
   "execution_count": 124,
   "metadata": {},
   "outputs": [
    {
     "name": "stdout",
     "output_type": "stream",
     "text": [
      "(30000, 200)\n",
      "(2000, 200)\n"
     ]
    }
   ],
   "source": [
    "print(pca_train.shape)\n",
    "print(pca_test.shape)"
   ]
  },
  {
   "cell_type": "code",
   "execution_count": 280,
   "metadata": {},
   "outputs": [
    {
     "data": {
      "image/png": "[encoded data removed]",
      "text/plain": [
       "<Figure size 432x288 with 1 Axes>"
      ]
     },
     "metadata": {
      "needs_background": "light"
     },
     "output_type": "display_data"
    }
   ],
   "source": [
    "pl.scatter([pca_train[:,0]],[pca_train[:,1]],alpha=0.8,marker='.')\n",
    "pl.axis('equal')\n",
    "pl.xlabel('Princiapl Component')\n",
    "pl.ylabel('Second Component')\n",
    "pl.show()"
   ]
  },
  {
   "cell_type": "markdown",
   "metadata": {},
   "source": [
    "### KNN"
   ]
  },
  {
   "cell_type": "code",
   "execution_count": 60,
   "metadata": {},
   "outputs": [],
   "source": [
    "def KNN(test, train, train_label, k):\n",
    "    \n",
    "    # Copy the testing data, and then caculate the difference between testing and training data\n",
    "    difference = np.tile(test,(train.shape[0],1)) - train \n",
    "    euclidean_dist = (difference ** 2).sum(axis=1)**0.5 # Caculate Euclidean distance\n",
    "    sort_dist = euclidean_dist.argsort() # Sort the index based on Euclidean distance from the near to the distant\n",
    "    \n",
    "    vote = {}\n",
    "    for i in range(k): # Observe K Nearest Neighbours from the near to the distant\n",
    "        label = train_label[sort_dist[i]] # Extract the index of the nearest point and then find the label of that training data\n",
    "        vote[label] = vote.get(label,0) + 1 # Start to vote!!!\n",
    "    sort_vote = sorted(vote.items(), key=lambda item:item[1], reverse=True) # Sort the vote result\n",
    "    elected = sort_vote[0][0]\n",
    "    return elected"
   ]
  },
  {
   "cell_type": "code",
   "execution_count": 63,
   "metadata": {},
   "outputs": [],
   "source": [
    "def KNN_pred(k):\n",
    "    KNN_pred_label = [] \n",
    "    for i in range(data_test.shape[0]): # Review all testing data\n",
    "\n",
    "        predict = KNN(data_test[i],data_train,label_train,k) # Implement KNN to get the predicted label\n",
    "        KNN_pred_label.append(predict)\n",
    "\n",
    "    return KNN_pred_label"
   ]
  },
  {
   "cell_type": "code",
   "execution_count": 58,
   "metadata": {},
   "outputs": [],
   "source": [
    "def accuracy(pred_label,actual_label): # Caculate the accuracy\n",
    "    correct_pred = 0\n",
    "    for i in range(actual_label.shape[0]):\n",
    "        if pred_label[i] == actual_label[i]: # Prediected label = Actual label\n",
    "            correct_pred = correct_pred + 1 \n",
    " \n",
    "    accuracy = correct_pred/float(actual_label.shape[0]) # accuracy = Correct labels/All labels\n",
    "    return accuracy"
   ]
  },
  {
   "cell_type": "code",
   "execution_count": 64,
   "metadata": {},
   "outputs": [],
   "source": [
    "KNN_pred_5 = KNN_pred(5)\n",
    "KNN_pred_11 = KNN_pred(11)\n",
    "KNN_pred_15 = KNN_pred(15)\n",
    "KNN_pred_21 = KNN_pred(21)"
   ]
  },
  {
   "cell_type": "code",
   "execution_count": 66,
   "metadata": {},
   "outputs": [
    {
     "name": "stdout",
     "output_type": "stream",
     "text": [
      "The accuracy of KNN (K=5):  0.8265\n",
      "The accuracy of KNN (K=11):  0.832\n",
      "The accuracy of KNN (K=15):  0.8215\n",
      "The accuracy of KNN (K=21):  0.8265\n"
     ]
    }
   ],
   "source": [
    "KNN_acc_5 = accuracy(KNN_pred_5,label_test)\n",
    "KNN_acc_11 = accuracy(KNN_pred_11,label_test)\n",
    "KNN_acc_15 = accuracy(KNN_pred_15,label_test)\n",
    "KNN_acc_21 = accuracy(KNN_pred_21,label_test)\n",
    "print('The accuracy of KNN (K=5): ',KNN_acc_5)\n",
    "print('The accuracy of KNN (K=11): ',KNN_acc_11)\n",
    "print('The accuracy of KNN (K=15): ',KNN_acc_15)\n",
    "print('The accuracy of KNN (K=21): ',KNN_acc_21)"
   ]
  },
  {
   "cell_type": "code",
   "execution_count": 257,
   "metadata": {},
   "outputs": [
    {
     "name": "stdout",
     "output_type": "stream",
     "text": [
      "The accuracy of KNN (K=7):  0.832\n"
     ]
    }
   ],
   "source": [
    "KNN_pred_7 = KNN_pred(7)\n",
    "KNN_acc_7 = accuracy(KNN_pred_7,label_test)\n",
    "print('The accuracy of KNN (K=7): ',KNN_acc_7)"
   ]
  },
  {
   "cell_type": "code",
   "execution_count": 258,
   "metadata": {},
   "outputs": [
    {
     "name": "stdout",
     "output_type": "stream",
     "text": [
      "The accuracy of KNN (K=13):  0.8285\n"
     ]
    }
   ],
   "source": [
    "KNN_pred_13 = KNN_pred(13)\n",
    "KNN_acc_13 = accuracy(KNN_pred_13,label_test)\n",
    "print('The accuracy of KNN (K=13): ',KNN_acc_13)"
   ]
  },
  {
   "cell_type": "code",
   "execution_count": 292,
   "metadata": {},
   "outputs": [],
   "source": [
    "tt = [KNN_acc_5,KNN_acc_7,KNN_acc_11,KNN_acc_13,KNN_acc_15,KNN_acc_21]"
   ]
  },
  {
   "cell_type": "code",
   "execution_count": 295,
   "metadata": {},
   "outputs": [
    {
     "data": {
      "image/png": "[encoded data removed]",
      "text/plain": [
       "<Figure size 432x288 with 1 Axes>"
      ]
     },
     "metadata": {
      "needs_background": "light"
     },
     "output_type": "display_data"
    }
   ],
   "source": [
    "\n",
    "#find a good r_svd\n",
    "fig, ax = plt.subplots()\n",
    "ax.plot(ttx,tt)\n",
    "ax.set_xlabel('Value K')\n",
    "ax.set_ylabel('Accuracy')\n",
    "ax.set_title('The Accuracy of KNN by Value K')\n",
    "plt.grid(True)\n",
    "plt.show()"
   ]
  },
  {
   "cell_type": "markdown",
   "metadata": {},
   "source": [
    "### Gaussian Naïve Bayes"
   ]
  },
  {
   "cell_type": "code",
   "execution_count": 67,
   "metadata": {},
   "outputs": [],
   "source": [
    "def pdf_gaussian_dist(data_point, mean, variance):\n",
    "    # PDF of Gaussian distribution\n",
    "    pdf = math.exp(-0.5*((data_point-mean)**2/variance))/(math.sqrt(2*math.pi*variance))                                                      \n",
    "                                                          \n",
    "    return pdf"
   ]
  },
  {
   "cell_type": "code",
   "execution_count": 68,
   "metadata": {},
   "outputs": [
    {
     "name": "stdout",
     "output_type": "stream",
     "text": [
      "{0: 0.10136666666666666, 1: 0.09906666666666666, 2: 0.09786666666666667, 3: 0.10026666666666667, 4: 0.09846666666666666, 5: 0.10096666666666666, 6: 0.10076666666666667, 7: 0.10043333333333333, 8: 0.10133333333333333, 9: 0.09946666666666666}\n"
     ]
    }
   ],
   "source": [
    "# Caculate Prior probability\n",
    "total_label = len(label_train)\n",
    "prior_prob = {}\n",
    "class_train_data = {}\n",
    "\n",
    "for i in np.unique(label_train):\n",
    "    \n",
    "    i_label = len(data_train[label_train==i]) # Caculate the number of each label\n",
    "    label_prob = i_label/total_label # Caculate the prior probability of each label \n",
    "    prior_prob[i] = label_prob\n",
    "    class_train_data[i] = data_train[np.where(label_train==i)] # Create new training dataset dictionary based on label\n",
    "    \n",
    "print(prior_prob)"
   ]
  },
  {
   "cell_type": "code",
   "execution_count": 69,
   "metadata": {},
   "outputs": [],
   "source": [
    "class_test_data = {}\n",
    "\n",
    "for i in np.unique(label_test):\n",
    "    \n",
    "    class_test_data[i] = data_test[np.where(label_test==i)] # Create new testing dataset dictionary based on label"
   ]
  },
  {
   "cell_type": "code",
   "execution_count": 70,
   "metadata": {},
   "outputs": [
    {
     "name": "stdout",
     "output_type": "stream",
     "text": [
      "0\n",
      "1\n",
      "2\n",
      "3\n",
      "4\n",
      "5\n",
      "6\n",
      "7\n",
      "8\n",
      "9\n"
     ]
    }
   ],
   "source": [
    "# Caculate mean and variance of training data\n",
    "train_mean = {}\n",
    "train_var = {}\n",
    "\n",
    "for i in class_train_data.keys(): # For each label\n",
    "    print(i)\n",
    "    label_mean = []\n",
    "    label_var = []\n",
    "    \n",
    "    for j in range(class_train_data[i].shape[1]): # For each feature\n",
    "        \n",
    "        mean = np.mean(class_train_data[i][:,j]) # Caculate the mean based on label and feature\n",
    "        var = np.var(class_train_data[i][:,j]) # Caculate the  based on label and feature\n",
    "        label_mean.append(mean)\n",
    "        label_var.append(var)\n",
    "        \n",
    "    train_mean[i] = label_mean\n",
    "    train_var[i] = label_var"
   ]
  },
  {
   "cell_type": "code",
   "execution_count": 71,
   "metadata": {},
   "outputs": [],
   "source": [
    "def Naive_Bayes_Classifier(row,data): # data = data_train or data_test\n",
    "\n",
    "    label_pred = {}\n",
    "\n",
    "    for label in class_train_data.keys(): # For each label\n",
    "\n",
    "        cond_prob_collect = []\n",
    "        for i in range(784): # For each feature\n",
    "            # Caculate the pdf of gaussain distribution and do smoothing\n",
    "            pdf = pdf_gaussian_dist(data[row][i],train_mean[label][i],train_var[label][i]+0.0000000000001)\n",
    "            cond_prob_collect.append(pdf*0.5) # Caculate the conditional probability\n",
    "\n",
    "        cond_prob = np.prod(cond_prob_collect) # Multiple all conditional probabilities\n",
    "        label_pred[label] = cond_prob*prior_prob[label] # Multiple conditional probability and prior probability\n",
    "        pred = max(label_pred, key = label_pred.get) # Find the label with the max posterior probability\n",
    "        \n",
    "    return pred"
   ]
  },
  {
   "cell_type": "code",
   "execution_count": 77,
   "metadata": {},
   "outputs": [
    {
     "name": "stdout",
     "output_type": "stream",
     "text": [
      "The accuracy of Naive Bayes (Train):  0.5710333333333333\n"
     ]
    }
   ],
   "source": [
    "# Naive Bayes classifier for training data\n",
    "label_pred = []\n",
    "\n",
    "for i in range(len(data_train)):\n",
    "    \n",
    "    pred = Naive_Byes_Classifier(i,data_train)\n",
    "    label_pred.append(pred)\n",
    "\n",
    "NB_pred_train = np.array(label_pred)\n",
    "NB_acc_train = accuracy(NB_pred_train,label_train)\n",
    "print('The accuracy of Naive Bayes (Train): ',NB_acc_train)"
   ]
  },
  {
   "cell_type": "code",
   "execution_count": 78,
   "metadata": {},
   "outputs": [
    {
     "name": "stdout",
     "output_type": "stream",
     "text": [
      "The accuracy of Naive Bayes (Test):  0.566\n"
     ]
    }
   ],
   "source": [
    "# Naive Bayes classifier for testing data\n",
    "test_label_pred = []\n",
    "\n",
    "for i in range(len(data_test)):\n",
    "    \n",
    "    pred = Naive_Bayes_Classifier(i,data_test)\n",
    "    test_label_pred.append(pred)\n",
    "\n",
    "NB_pred_test = np.array(test_label_pred)\n",
    "NB_acc_test = accuracy(NB_pred_test,label_test)\n",
    "print('The accuracy of Naive Bayes (Test): ',NB_acc_test)"
   ]
  },
  {
   "cell_type": "markdown",
   "metadata": {},
   "source": [
    "### Multi Logistic Regression"
   ]
  },
  {
   "cell_type": "code",
   "execution_count": 79,
   "metadata": {},
   "outputs": [],
   "source": [
    "def extend_to_intercept(x): # Add the bisa for data\n",
    "    return np.hstack((np.ones((x.shape[0],1)), x))"
   ]
  },
  {
   "cell_type": "code",
   "execution_count": 80,
   "metadata": {},
   "outputs": [],
   "source": [
    "def logistic_loss_and_grad(weights, inputs, targets): # Gradient Disecent and Loss Ffunction for logistic regression\n",
    "\n",
    "    #derivative of the loss function\n",
    "    z = np.dot(inputs, weights) \n",
    "    exp_z = np.exp(-z)\n",
    "    temp = 1/(1 + exp_z) - targets\n",
    "    dloss = np.sum(temp*inputs, axis=0)[:, np.newaxis]\n",
    "\n",
    "    #calculating the loss\n",
    "    cost = -(targets*np.log(1/(1+exp_z))+(1-targets)*np.log(1-(1/(1+exp_z))))\n",
    "    loss = np.sum(cost)/len(inputs)\n",
    "\n",
    "    return dloss, loss"
   ]
  },
  {
   "cell_type": "code",
   "execution_count": 81,
   "metadata": {},
   "outputs": [],
   "source": [
    "def logistic_predictions(weights, inputs): # Predict the result\n",
    "    z = np.dot(inputs, weights)\n",
    "    h = 1.0/(1.0 + np.exp(-z))\n",
    "    predict = []\n",
    "    for i in range(len(h)):\n",
    "        if h[i] >= 0.5: # If the probabiluty hypothesis >= 0.5 return 1\n",
    "            predict.append(1)\n",
    "        elif h[i] < 0.5: # If the probabiluty hypothesis < 0.5 return 0\n",
    "            predict.append(0)\n",
    "    return np.array(predict)"
   ]
  },
  {
   "cell_type": "code",
   "execution_count": 82,
   "metadata": {
    "code_folding": []
   },
   "outputs": [],
   "source": [
    "train_log = np.concatenate((class_train_data[0],\n",
    "                            class_train_data[1],\n",
    "                            class_train_data[2],\n",
    "                            class_train_data[3],\n",
    "                            class_train_data[4],\n",
    "                            class_train_data[5],\n",
    "                            class_train_data[6],\n",
    "                            class_train_data[7],\n",
    "                            class_train_data[8],\n",
    "                            class_train_data[9],))"
   ]
  },
  {
   "cell_type": "code",
   "execution_count": 83,
   "metadata": {},
   "outputs": [],
   "source": [
    "train_log = extend_to_intercept(train_log)"
   ]
  },
  {
   "cell_type": "code",
   "execution_count": 84,
   "metadata": {},
   "outputs": [],
   "source": [
    "test_log = np.concatenate((class_test_data[0],\n",
    "                           class_test_data[1],\n",
    "                           class_test_data[2],\n",
    "                           class_test_data[3],\n",
    "                           class_test_data[4],\n",
    "                           class_test_data[5],\n",
    "                           class_test_data[6],\n",
    "                           class_test_data[7],\n",
    "                           class_test_data[8],\n",
    "                           class_test_data[9],))"
   ]
  },
  {
   "cell_type": "code",
   "execution_count": 85,
   "metadata": {},
   "outputs": [],
   "source": [
    "test_log = extend_to_intercept(test_log)"
   ]
  },
  {
   "cell_type": "code",
   "execution_count": 86,
   "metadata": {},
   "outputs": [],
   "source": [
    "train_label_log = np.array([0]*len(class_train_data[0])\n",
    "                          +[1]*len(class_train_data[1])\n",
    "                          +[2]*len(class_train_data[2])\n",
    "                          +[3]*len(class_train_data[3])\n",
    "                          +[4]*len(class_train_data[4])\n",
    "                          +[5]*len(class_train_data[5])\n",
    "                          +[6]*len(class_train_data[6])\n",
    "                          +[7]*len(class_train_data[7])\n",
    "                          +[8]*len(class_train_data[8])\n",
    "                          +[9]*len(class_train_data[9]))"
   ]
  },
  {
   "cell_type": "code",
   "execution_count": 87,
   "metadata": {},
   "outputs": [],
   "source": [
    "test_label_log = np.array([0]*len(class_test_data[0])\n",
    "                          +[1]*len(class_test_data[1])\n",
    "                          +[2]*len(class_test_data[2])\n",
    "                          +[3]*len(class_test_data[3])\n",
    "                          +[4]*len(class_test_data[4])\n",
    "                          +[5]*len(class_test_data[5])\n",
    "                          +[6]*len(class_test_data[6])\n",
    "                          +[7]*len(class_test_data[7])\n",
    "                          +[8]*len(class_test_data[8])\n",
    "                          +[9]*len(class_test_data[9]))"
   ]
  },
  {
   "cell_type": "code",
   "execution_count": 88,
   "metadata": {},
   "outputs": [],
   "source": [
    "def label_transform(label,data):\n",
    "    label_log = data # data = train_label_log or test_label_log\n",
    "    label_log = np.where(label_log!=label, 10, label_log) \n",
    "    label_log = np.where(label_log==label, 1, label_log) \n",
    "    label_log = np.where(label_log==10, 0, label_log)\n",
    "    return label_log"
   ]
  },
  {
   "cell_type": "code",
   "execution_count": 89,
   "metadata": {},
   "outputs": [],
   "source": [
    "def pred_label_transform(y_pred,label):\n",
    "    y_pred = np.where(y_pred==0,10,y_pred)\n",
    "    y_pred = np.where(y_pred==1,label,y_pred)\n",
    "    return y_pred"
   ]
  },
  {
   "cell_type": "code",
   "execution_count": 90,
   "metadata": {},
   "outputs": [],
   "source": [
    "def y_data_transform(label,label_log):\n",
    "    y_data = label_transform(label,label_log)\n",
    "    y_data = np.where(y_data==0,10,y_data)\n",
    "    y_data = np.where(y_data==1,0,y_data)\n",
    "    return y_data"
   ]
  },
  {
   "cell_type": "code",
   "execution_count": 119,
   "metadata": {},
   "outputs": [],
   "source": [
    "def Multi_Logistic_Regression(label,n_iter,eta): \n",
    "    \n",
    "    label = label\n",
    "    N, D = train_log.shape\n",
    "    y = label_transform(label,train_label_log).reshape(train_log.shape[0],1)\n",
    "    weights = np.random.random(D)[:, np.newaxis]\n",
    "\n",
    "    eta = eta\n",
    "    n_iter = n_iter\n",
    "\n",
    "    for epoch in range(n_iter):\n",
    "\n",
    "        #gradient descent\n",
    "        dloss, loss = logistic_loss_and_grad(weights, train_log, y)\n",
    "        weights = weights  - dloss * eta\n",
    "\n",
    "    y_pred_train = logistic_predictions(weights, train_log)\n",
    "    y_pred_train = pred_label_transform(y_pred_train,label)\n",
    "    \n",
    "    y_pred_test = logistic_predictions(weights, test_log)\n",
    "    y_pred_test = pred_label_transform(y_pred_test,label)\n",
    "    \n",
    "    y_train_data = y_data_transform(label,train_label_log)\n",
    "    y_test_data = y_data_transform(label,test_label_log)\n",
    "    \n",
    "    train_acc = accuracy(y_pred_train,y_train_data)\n",
    "    test_acc = accuracy(y_pred_test,y_test_data)\n",
    "\n",
    "    return train_acc, test_acc, y_pred_train, y_train_data, y_pred_test, y_test_data"
   ]
  },
  {
   "cell_type": "code",
   "execution_count": 239,
   "metadata": {},
   "outputs": [
    {
     "name": "stdout",
     "output_type": "stream",
     "text": [
      "The accuracy of Logistic Regression (Train):  0.8912666666666667\n",
      "The accuracy of Logistic Regression (Test):  0.8899500000000001\n"
     ]
    }
   ],
   "source": [
    "train_acc = {}\n",
    "test_acc = {}\n",
    "LogReg_pred_train = {}\n",
    "LogReg_pred_test = {}\n",
    "\n",
    "LogReg_label_train = {}\n",
    "LogReg_label_test = {}\n",
    "\n",
    "for i in range(10):\n",
    "    \n",
    "    train_acc_label, test_acc_label, y_pred_train, y_train_data, y_pred_test, y_test_data = Multi_Logistic_Regression(i,300,0.05)\n",
    "    \n",
    "    train_acc[i] = train_acc_label\n",
    "    test_acc[i] = test_acc_label\n",
    "    \n",
    "    LogReg_pred_train[i] = y_pred_train\n",
    "    LogReg_pred_test[i] = y_pred_test\n",
    "    \n",
    "    LogReg_label_train[i] = y_train_data\n",
    "    LogReg_label_test[i] = y_test_data\n",
    "    \n",
    "MultiLog_acc_train = sum(train_acc.values())/len(train_acc)\n",
    "MultiLog_acc_test = sum(test_acc.values())/len(test_acc)\n",
    "print('The accuracy of Logistic Regression (Train): ',MultiLog_acc_train) # Individual classifier to class different label\n",
    "print('The accuracy of Logistic Regression (Test): ',MultiLog_acc_test)"
   ]
  },
  {
   "cell_type": "code",
   "execution_count": 298,
   "metadata": {},
   "outputs": [
    {
     "data": {
      "text/plain": [
       "{0: 0.9583,\n",
       " 1: 0.8962666666666667,\n",
       " 2: 0.8671666666666666,\n",
       " 3: 0.8493,\n",
       " 4: 0.8994333333333333,\n",
       " 5: 0.8980333333333334,\n",
       " 6: 0.8992333333333333,\n",
       " 7: 0.8901333333333333,\n",
       " 8: 0.8916,\n",
       " 9: 0.8632}"
      ]
     },
     "execution_count": 298,
     "metadata": {},
     "output_type": "execute_result"
    }
   ],
   "source": [
    "train_acc"
   ]
  },
  {
   "cell_type": "code",
   "execution_count": 299,
   "metadata": {},
   "outputs": [
    {
     "data": {
      "text/plain": [
       "{0: 0.9595,\n",
       " 1: 0.9035,\n",
       " 2: 0.8615,\n",
       " 3: 0.8425,\n",
       " 4: 0.8875,\n",
       " 5: 0.9035,\n",
       " 6: 0.905,\n",
       " 7: 0.895,\n",
       " 8: 0.8765,\n",
       " 9: 0.865}"
      ]
     },
     "execution_count": 299,
     "metadata": {},
     "output_type": "execute_result"
    }
   ],
   "source": [
    "test_acc"
   ]
  },
  {
   "cell_type": "code",
   "execution_count": 265,
   "metadata": {},
   "outputs": [],
   "source": [
    "empty_arr_train = np.array([10]*30000)\n",
    "for i in range(10):\n",
    "    empty_arr_train[LogReg_label_train[i]==0] = i\n",
    "\n",
    "sort_idx = sorted(train_acc.items(),key=lambda item:item[1])\n",
    "train_arr = np.array([10]*30000)\n",
    "for i in range(10):\n",
    "    idx = sort_idx[i][0]\n",
    "    train_arr[LogReg_pred_train[idx]==idx] = idx\n",
    "    \n",
    "for i in range(len(train_arr)):\n",
    "    if train_arr[i] == 10:\n",
    "        train_arr[i] = randint(0,9)\n",
    "MultiLog_acc_train_all = accuracy(train_arr,empty_arr_train)"
   ]
  },
  {
   "cell_type": "code",
   "execution_count": 266,
   "metadata": {},
   "outputs": [],
   "source": [
    "empty_arr = np.array([10]*2000)\n",
    "for i in range(10):\n",
    "    empty_arr[LogReg_label_test[i]==0] = i\n",
    "\n",
    "sort_idx = sorted(test_acc.items(),key=lambda item:item[1])\n",
    "test_arr = np.array([10]*2000)\n",
    "for i in range(10):\n",
    "    idx = sort_idx[i][0]\n",
    "    test_arr[LogReg_pred_test[idx]==idx] = idx\n",
    "    \n",
    "for i in range(len(test_arr)):\n",
    "    if test_arr[i] == 10:\n",
    "        test_arr[i] = randint(0,9)\n",
    "MultiLog_acc_test_all = accuracy(test_arr,empty_arr)"
   ]
  },
  {
   "cell_type": "code",
   "execution_count": 267,
   "metadata": {},
   "outputs": [
    {
     "name": "stdout",
     "output_type": "stream",
     "text": [
      "The accuracy of Logistic Regression (Train-overall):  0.7132666666666667\n",
      "The accuracy of Logistic Regression (Test-overall):  0.704\n"
     ]
    }
   ],
   "source": [
    "print('The accuracy of Logistic Regression (Train-overall): ',MultiLog_acc_train_all)\n",
    "print('The accuracy of Logistic Regression (Test-overall): ',MultiLog_acc_test_all)"
   ]
  },
  {
   "cell_type": "markdown",
   "metadata": {},
   "source": [
    "### Algorithm Comparison"
   ]
  },
  {
   "cell_type": "code",
   "execution_count": 272,
   "metadata": {},
   "outputs": [
    {
     "data": {
      "image/png": "[encoded data removed]",
      "text/plain": [
       "<Figure size 720x360 with 1 Axes>"
      ]
     },
     "metadata": {
      "needs_background": "light"
     },
     "output_type": "display_data"
    }
   ],
   "source": [
    "data = {'Multi Logistic Regression':MultiLog_acc_test_all, 'Guassian Naive Bayes':NB_acc_test, 'KNN':KNN_acc_7} \n",
    "classifier = list(data.keys()) \n",
    "accuracy = list(data.values()) \n",
    "   \n",
    "fig = pl.figure(figsize = (10, 5)) \n",
    "  \n",
    "pl.bar(classifier, accuracy, color ='maroon',  width = 0.4) \n",
    "  \n",
    "pl.ylabel(\"Accuracy\") \n",
    "pl.title(\"Classifiers Comparison\") \n",
    "pl.show() "
   ]
  },
  {
   "cell_type": "markdown",
   "metadata": {},
   "source": [
    "### Output the prediction\n",
    "Output a file “predicted_labels.h5” that can be loaded in the same way as above. You may use the following code to generate an output file that meets the requirement:"
   ]
  },
  {
   "cell_type": "code",
   "execution_count": 271,
   "metadata": {},
   "outputs": [],
   "source": [
    "import numpy as np\n",
    "with h5py.File('predicted_labels.h5','w') as H:\n",
    "    H.create_dataset('Output',data=KNN_acc_7)"
   ]
  },
  {
   "cell_type": "markdown",
   "metadata": {
    "nbpresent": {
     "id": "aca7ed33-2da5-4fbf-a861-8a886f4020a8"
    }
   },
   "source": [
    "We will load the output file using the code for loading data above. It is your responsibility to make sure the output file can be correctly loaded using this code.\n",
    "The performance of your classifier will be evaluated in terms of the top-1 accuracy metric, i.e.<br /><br />\n",
    "<div style=\"text-align: center\"> $$\\text{Accuracy} = \\frac{\\text{Number of correct classifications}}{\\text{Total number of test examples used}} * 100\\%$$"
   ]
  }
 ],
 "metadata": {
  "anaconda-cloud": {},
  "kernelspec": {
   "display_name": "Python 3",
   "language": "python",
   "name": "python3"
  },
  "language_info": {
   "codemirror_mode": {
    "name": "ipython",
    "version": 3
   },
   "file_extension": ".py",
   "mimetype": "text/x-python",
   "name": "python",
   "nbconvert_exporter": "python",
   "pygments_lexer": "ipython3",
   "version": "3.7.6"
  },
  "varInspector": {
   "cols": {
    "lenName": 16,
    "lenType": 16,
    "lenVar": 40
   },
   "kernels_config": {
    "python": {
     "delete_cmd_postfix": "",
     "delete_cmd_prefix": "del ",
     "library": "var_list.py",
     "varRefreshCmd": "print(var_dic_list())"
    },
    "r": {
     "delete_cmd_postfix": ") ",
     "delete_cmd_prefix": "rm(",
     "library": "var_list.r",
     "varRefreshCmd": "cat(var_dic_list()) "
    }
   },
   "types_to_exclude": [
    "module",
    "function",
    "builtin_function_or_method",
    "instance",
    "_Feature"
   ],
   "window_display": false
  }
 },
 "nbformat": 4,
 "nbformat_minor": 2
}
